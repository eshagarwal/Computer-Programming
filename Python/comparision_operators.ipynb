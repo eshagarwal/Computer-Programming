{
 "cells": [
  {
   "cell_type": "code",
   "execution_count": 4,
   "metadata": {},
   "outputs": [
    {
     "name": "stdout",
     "output_type": "stream",
     "text": [
      "[10, 6]\n"
     ]
    }
   ],
   "source": [
    "# Tradition for loop\n",
    "output_list = []                 # Create an empty list\n",
    "for x in [10, 5, 6]:             # Loop through a list\n",
    "    if x % 2 == 0:               # Check the remainder of x / 2\n",
    "        output_list.append(x)    # Add it to the list\n",
    "print(output_list)"
   ]
  },
  {
   "cell_type": "code",
   "execution_count": 5,
   "metadata": {},
   "outputs": [
    {
     "name": "stdout",
     "output_type": "stream",
     "text": [
      "[10, 6]\n"
     ]
    }
   ],
   "source": [
    "# List comprehension\n",
    "output_list = [x for x in [10, 5, 6] if x % 2 == 0]\n",
    "print(output_list)"
   ]
  },
  {
   "cell_type": "code",
   "execution_count": 1,
   "metadata": {},
   "outputs": [
    {
     "name": "stdout",
     "output_type": "stream",
     "text": [
      "False\n"
     ]
    }
   ],
   "source": [
    "x = 10\n",
    "y = 15\n",
    "if x > y:\n",
    "    print(\"True\")\n",
    "else:\n",
    "    print(\"False\")"
   ]
  },
  {
   "cell_type": "code",
   "execution_count": 2,
   "metadata": {},
   "outputs": [
    {
     "data": {
      "text/plain": [
       "50"
      ]
     },
     "execution_count": 2,
     "metadata": {},
     "output_type": "execute_result"
    }
   ],
   "source": [
    "x = 10\n",
    "y = 50\n",
    "\n",
    "x if (x > y) else y"
   ]
  },
  {
   "cell_type": "code",
   "execution_count": 6,
   "metadata": {},
   "outputs": [
    {
     "name": "stdout",
     "output_type": "stream",
     "text": [
      "A != B\n"
     ]
    }
   ],
   "source": [
    "A = \"Peggy\"\n",
    "B = \"Marcus\"\n",
    "\n",
    "if A == B:\n",
    "    print(\"A == B\")\n",
    "else: \n",
    "    print(\"A != B\")"
   ]
  },
  {
   "cell_type": "code",
   "execution_count": 4,
   "metadata": {},
   "outputs": [
    {
     "name": "stdout",
     "output_type": "stream",
     "text": [
      "Is A == B False\n",
      "Is A != B True\n"
     ]
    }
   ],
   "source": [
    "A = \"Peggy\"\n",
    "B = \"Marcus\"\n",
    "\n",
    "print(f\"Is A == B? {A == B}\")\n",
    "print(f\"Is A != B? {A != B}\")"
   ]
  },
  {
   "cell_type": "code",
   "execution_count": 5,
   "metadata": {},
   "outputs": [
    {
     "name": "stdout",
     "output_type": "stream",
     "text": [
      "Is C == D? True\n",
      "Is C != D? False\n"
     ]
    }
   ],
   "source": [
    "C = \"Kylie\"\n",
    "D = \"Kylie\"\n",
    "\n",
    "print(f\"Is C == D? {C == D}\")\n",
    "print(f\"Is C != D? {C != D}\")"
   ]
  }
 ],
 "metadata": {
  "kernelspec": {
   "display_name": "Python 3",
   "language": "python",
   "name": "python3"
  },
  "language_info": {
   "codemirror_mode": {
    "name": "ipython",
    "version": 3
   },
   "file_extension": ".py",
   "mimetype": "text/x-python",
   "name": "python",
   "nbconvert_exporter": "python",
   "pygments_lexer": "ipython3",
   "version": "3.10.0"
  }
 },
 "nbformat": 4,
 "nbformat_minor": 2
}
