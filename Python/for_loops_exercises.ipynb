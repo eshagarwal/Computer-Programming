{
 "cells": [
  {
   "cell_type": "markdown",
   "metadata": {},
   "source": [
    "# For-loops"
   ]
  },
  {
   "cell_type": "markdown",
   "metadata": {},
   "source": [
    "Breaking out of loop can be done using the keyword `break`"
   ]
  },
  {
   "cell_type": "code",
   "execution_count": 3,
   "metadata": {},
   "outputs": [
    {
     "name": "stdout",
     "output_type": "stream",
     "text": [
      "John\n",
      "Jane\n",
      "Found Customer 2 Jane\n"
     ]
    }
   ],
   "source": [
    "customer_list = ['John', 'Jane', 'Mary']\n",
    "for customer in customer_list:\n",
    "    print(customer)\n",
    "    if customer == 'Jane':\n",
    "        print('Found Customer 2 Jane')\n",
    "        break"
   ]
  },
  {
   "cell_type": "markdown",
   "metadata": {},
   "source": [
    "How could you use this condition to print a statement for every customer other than customer 2?"
   ]
  },
  {
   "cell_type": "code",
   "execution_count": 7,
   "metadata": {},
   "outputs": [
    {
     "name": "stdout",
     "output_type": "stream",
     "text": [
      "John\n",
      "Mary\n"
     ]
    }
   ],
   "source": [
    "for customer in customer_list:\n",
    "    if customer == 'Jane':\n",
    "        continue \n",
    "    print(customer)\n"
   ]
  },
  {
   "cell_type": "markdown",
   "metadata": {},
   "source": [
    "# Looping Exercises"
   ]
  },
  {
   "cell_type": "markdown",
   "metadata": {},
   "source": [
    "1. Create a list of 7 names, and then write a for loop to send a congratulations message to each name (e.g.\n",
    "\"Congratulations Tom!\")\n",
    "\n",
    "2. Create a for loop to print every letter in a string.\n",
    "Note: You can index strings like lists e.g. string_example[0]\n",
    "\n",
    "3. Create a for loop which appends the square of number into a new list, using:\n",
    "1st 1=13, 7, 6, 8, 9, 11, 15, 251 lst2=[].\n",
    "Note: you can append an item onto the end of a list using Ist2.append(item)\n",
    "\n",
    "4. For the previous loop, include a if-statement to catch any strings in the first list. If it finds a string, skip this iteration and print the index and an error message (e.g. \"Index [0] was a string, not an integer\")"
   ]
  },
  {
   "cell_type": "code",
   "execution_count": 3,
   "metadata": {},
   "outputs": [
    {
     "name": "stdout",
     "output_type": "stream",
     "text": [
      "Congratulations Sarah!\n",
      "Congratulations John!\n",
      "Congratulations Mike!\n",
      "Congratulations Jane!\n",
      "Congratulations Joe!\n",
      "Congratulations Tom!\n",
      "Congratulations Ross!\n"
     ]
    }
   ],
   "source": [
    "# 1\n",
    "\n",
    "list_of_names = ['Sarah', 'John', 'Mike', 'Jane', 'Joe', 'Tom', 'Ross']\n",
    "for each_name in list_of_names:\n",
    "    print(f'Congratulations {each_name}!')"
   ]
  },
  {
   "cell_type": "code",
   "execution_count": 9,
   "metadata": {},
   "outputs": [
    {
     "name": "stdout",
     "output_type": "stream",
     "text": [
      "H e l l o   W o r l d "
     ]
    }
   ],
   "source": [
    "# 2\n",
    "\n",
    "string = \"Hello World\"\n",
    "len_string = len(string)\n",
    "for i in range(len_string):\n",
    "    print(string[i], end=\" \")"
   ]
  },
  {
   "cell_type": "code",
   "execution_count": null,
   "metadata": {},
   "outputs": [
    {
     "name": "stdout",
     "output_type": "stream",
     "text": [
      "[169, 49, 36, 64, 81, 121, 225, 63001]\n"
     ]
    }
   ],
   "source": [
    "# 3\n",
    "\n",
    "list_1 = [13, 7, 6, 8, 9, 11, 15, 251]\n",
    "list_2 = []\n",
    "\n",
    "for i in list_1:\n",
    "    list_2.append(i**2)\n",
    "print(list_2)\n",
    "\n",
    "\n"
   ]
  },
  {
   "cell_type": "code",
   "execution_count": null,
   "metadata": {},
   "outputs": [
    {
     "name": "stdout",
     "output_type": "stream",
     "text": [
      "13\n",
      "7\n",
      "6\n",
      "Index [3] was a string, not an integer\n",
      "9\n",
      "11\n",
      "15\n",
      "251\n"
     ]
    }
   ],
   "source": [
    "# 4\n",
    "\n",
    "list_1 = [13, 7, 6, \"8\", 9, 11, 15, 251]\n",
    "\n",
    "for i in range(len(list_1)):\n",
    "    if isinstance(list_1[i], str):\n",
    "        print(f\"Index [{i}] was a string, not an integer\")\n",
    "        continue  # skips the rest of the loop\n",
    "    print(list_1[i])   "
   ]
  },
  {
   "cell_type": "code",
   "execution_count": null,
   "metadata": {},
   "outputs": [],
   "source": []
  }
 ],
 "metadata": {
  "kernelspec": {
   "display_name": "Python 3",
   "language": "python",
   "name": "python3"
  },
  "language_info": {
   "codemirror_mode": {
    "name": "ipython",
    "version": 3
   },
   "file_extension": ".py",
   "mimetype": "text/x-python",
   "name": "python",
   "nbconvert_exporter": "python",
   "pygments_lexer": "ipython3",
   "version": "3.10.0"
  }
 },
 "nbformat": 4,
 "nbformat_minor": 2
}
