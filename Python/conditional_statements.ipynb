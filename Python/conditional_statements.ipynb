{
 "cells": [
  {
   "cell_type": "markdown",
   "metadata": {},
   "source": [
    "# Conditional Statements"
   ]
  },
  {
   "cell_type": "code",
   "execution_count": 13,
   "metadata": {},
   "outputs": [
    {
     "name": "stdout",
     "output_type": "stream",
     "text": [
      "Turn on the cooler\n"
     ]
    }
   ],
   "source": [
    "temperature = 30\n",
    "\n",
    "def thermostat_regulator(temperature: float, low_temperature = 20, high_temperature = 27):\n",
    "    if temperature <= low_temperature:\n",
    "        state = 'Turn on the heater'\n",
    "    elif temperature >= high_temperature:\n",
    "        state = 'Turn on the cooler'\n",
    "    else:\n",
    "        state = 'Do nothing'\n",
    "    print(state)\n",
    "    return state \n",
    "\n",
    "state = thermostat_regulator(temperature)\n"
   ]
  },
  {
   "cell_type": "markdown",
   "metadata": {},
   "source": [
    "1. Write a script which will take the users name (using the input() function) and do the following:\n",
    "    - If the user's name is \"James Bond\", then print \"We've been expecting you, Mr Bond (hint: case sensitivity)\n",
    "    - Otherwise it should say \"Access Denied: NAME\", replacing NAME with the user's input. (hint: f-strings)\n",
    "\n",
    "2. Write a script to check if an entered value is an integer or a float, if its a float return the decimal component of the number.\n",
    "\n",
    "3. Imagine you're building a password management system. Write a Python program that prompts the user to enter a list of passwords. For each password, check its strength based on the following criteria:\n",
    "    - If the password length is less than 8 characters, print a message saying \"Weak password: too short\" and continue to the next password.\n",
    "    - If the password contains at least one uppercase letter, one lowercase letter, and one digit, print a message saying \"Strong password!\" and break out of the loop.\n",
    "    - If none of the above conditions are met, print a message saying \"Moderate password: missing character types\" and pass to the next password."
   ]
  },
  {
   "cell_type": "code",
   "execution_count": null,
   "metadata": {},
   "outputs": [],
   "source": []
  },
  {
   "cell_type": "code",
   "execution_count": 21,
   "metadata": {},
   "outputs": [
    {
     "name": "stdout",
     "output_type": "stream",
     "text": [
      "Enter your name:\n",
      "We have been expecting you, Mr Bond!\n"
     ]
    }
   ],
   "source": [
    "# 1\n",
    "print(\"Enter your name:\")\n",
    "username = input()\n",
    "\n",
    "def hello_james(username: str) -> str:\n",
    "    if username == \"James Bond\":\n",
    "        output = 'We have been expecting you, Mr Bond!'\n",
    "    else:\n",
    "        output = f'Access Denied: {username}'\n",
    "\n",
    "    return output\n",
    "\n",
    "output = hello_james(username)\n",
    "print(output)\n"
   ]
  }
 ],
 "metadata": {
  "kernelspec": {
   "display_name": "Python 3",
   "language": "python",
   "name": "python3"
  },
  "language_info": {
   "codemirror_mode": {
    "name": "ipython",
    "version": 3
   },
   "file_extension": ".py",
   "mimetype": "text/x-python",
   "name": "python",
   "nbconvert_exporter": "python",
   "pygments_lexer": "ipython3",
   "version": "3.10.0"
  }
 },
 "nbformat": 4,
 "nbformat_minor": 2
}
