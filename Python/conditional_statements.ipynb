{
 "cells": [
  {
   "cell_type": "markdown",
   "metadata": {},
   "source": [
    "# Conditional Statements"
   ]
  },
  {
   "cell_type": "code",
   "execution_count": 13,
   "metadata": {},
   "outputs": [
    {
     "name": "stdout",
     "output_type": "stream",
     "text": [
      "Turn on the cooler\n"
     ]
    }
   ],
   "source": [
    "temperature = 30\n",
    "\n",
    "def thermostat_regulator(temperature: float, low_temperature = 20, high_temperature = 27):\n",
    "    if temperature <= low_temperature:\n",
    "        state = 'Turn on the heater'\n",
    "    elif temperature >= high_temperature:\n",
    "        state = 'Turn on the cooler'\n",
    "    else:\n",
    "        state = 'Do nothing'\n",
    "    print(state)\n",
    "    return state \n",
    "\n",
    "state = thermostat_regulator(temperature)\n"
   ]
  },
  {
   "cell_type": "markdown",
   "metadata": {},
   "source": [
    "1. Write a script which will take the users name (using the input() function) and do the following:\n",
    "    - If the user's name is \"James Bond\", then print \"We've been expecting you, Mr Bond (hint: case sensitivity)\n",
    "    - Otherwise it should say \"Access Denied: NAME\", replacing NAME with the user's input. (hint: f-strings)\n",
    "\n",
    "2. Write a script to check if an entered value is an integer or a float, if its a float return the decimal component of the number.\n",
    "\n",
    "3. Imagine you're building a password management system. Write a Python program that prompts the user to enter a list of passwords. For each password, check its strength based on the following criteria:\n",
    "    - If the password length is less than 8 characters, print a message saying \"Weak password: too short\" and continue to the next password.\n",
    "    - If the password contains at least one uppercase letter, one lowercase letter, and one digit, print a message saying \"Strong password!\" and break out of the loop.\n",
    "    - If none of the above conditions are met, print a message saying \"Moderate password: missing character types\" and pass to the next password."
   ]
  },
  {
   "cell_type": "code",
   "execution_count": 1,
   "metadata": {},
   "outputs": [
    {
     "name": "stdout",
     "output_type": "stream",
     "text": [
      "Enter your name:\n",
      "Access Denied: esha\n"
     ]
    }
   ],
   "source": [
    "# 1\n",
    "def hello_james(username: str) -> str:\n",
    "    if username == \"James Bond\":\n",
    "        output = 'We have been expecting you, Mr Bond!'\n",
    "    else:\n",
    "        output = f'Access Denied: {username}'\n",
    "\n",
    "    return output\n",
    "\n",
    "print(\"Enter your name:\")\n",
    "username = input()\n",
    "\n",
    "output = hello_james(username)\n",
    "print(output)"
   ]
  },
  {
   "cell_type": "code",
   "execution_count": 2,
   "metadata": {},
   "outputs": [
    {
     "name": "stdout",
     "output_type": "stream",
     "text": [
      "The entered value is a float.\n",
      "Decimal component: 0.5\n"
     ]
    }
   ],
   "source": [
    "# 2\n",
    "def check_number(value):\n",
    "    try:\n",
    "        # Try converting the input to a float\n",
    "        num = float(value)\n",
    "        \n",
    "        # Check if it's an integer\n",
    "        if num.is_integer():\n",
    "            print(\"The entered value is an integer.\")\n",
    "        else:\n",
    "            # If it's a float, get the decimal component\n",
    "            decimal_component = num - int(num)\n",
    "            print(\"The entered value is a float.\")\n",
    "            print(\"Decimal component:\", decimal_component)\n",
    "    except ValueError:\n",
    "        print(\"The entered value is not a number.\")\n",
    "\n",
    "# Get user input\n",
    "user_input = input(\"Enter a number: \")\n",
    "check_number(user_input)\n"
   ]
  },
  {
   "cell_type": "code",
   "execution_count": null,
   "metadata": {},
   "outputs": [
    {
     "name": "stdout",
     "output_type": "stream",
     "text": [
      "Weal password: too short\n"
     ]
    },
    {
     "ename": "AttributeError",
     "evalue": "'str' object has no attribute 'isDigit'",
     "output_type": "error",
     "traceback": [
      "\u001b[0;31m---------------------------------------------------------------------------\u001b[0m",
      "\u001b[0;31mAttributeError\u001b[0m                            Traceback (most recent call last)",
      "Cell \u001b[0;32mIn[4], line 21\u001b[0m\n\u001b[1;32m     18\u001b[0m passwords \u001b[38;5;241m=\u001b[39m \u001b[38;5;28minput\u001b[39m(\u001b[38;5;124m\"\u001b[39m\u001b[38;5;124mEnter a list of passwords separarted by spaces:\u001b[39m\u001b[38;5;124m\"\u001b[39m)\u001b[38;5;241m.\u001b[39msplit()\n\u001b[1;32m     20\u001b[0m \u001b[38;5;28;01mfor\u001b[39;00m password \u001b[38;5;129;01min\u001b[39;00m passwords:\n\u001b[0;32m---> 21\u001b[0m     \u001b[38;5;28;01mif\u001b[39;00m \u001b[43mcheck_password_strength\u001b[49m\u001b[43m(\u001b[49m\u001b[43mpassword\u001b[49m\u001b[43m)\u001b[49m:\n\u001b[1;32m     22\u001b[0m         \u001b[38;5;28;01mbreak\u001b[39;00m\n",
      "Cell \u001b[0;32mIn[4], line 9\u001b[0m, in \u001b[0;36mcheck_password_strength\u001b[0;34m(password)\u001b[0m\n\u001b[1;32m      7\u001b[0m has_upper \u001b[38;5;241m=\u001b[39m \u001b[38;5;28many\u001b[39m(char\u001b[38;5;241m.\u001b[39misupper() \u001b[38;5;28;01mfor\u001b[39;00m char \u001b[38;5;129;01min\u001b[39;00m password)\n\u001b[1;32m      8\u001b[0m has_lower \u001b[38;5;241m=\u001b[39m \u001b[38;5;28many\u001b[39m(char\u001b[38;5;241m.\u001b[39mislower() \u001b[38;5;28;01mfor\u001b[39;00m char \u001b[38;5;129;01min\u001b[39;00m password)\n\u001b[0;32m----> 9\u001b[0m has_digit \u001b[38;5;241m=\u001b[39m \u001b[38;5;28;43many\u001b[39;49m\u001b[43m(\u001b[49m\u001b[43mchar\u001b[49m\u001b[38;5;241;43m.\u001b[39;49m\u001b[43misDigit\u001b[49m\u001b[43m(\u001b[49m\u001b[43m)\u001b[49m\u001b[43m \u001b[49m\u001b[38;5;28;43;01mfor\u001b[39;49;00m\u001b[43m \u001b[49m\u001b[43mchar\u001b[49m\u001b[43m \u001b[49m\u001b[38;5;129;43;01min\u001b[39;49;00m\u001b[43m \u001b[49m\u001b[43mpassword\u001b[49m\u001b[43m)\u001b[49m\n\u001b[1;32m     11\u001b[0m \u001b[38;5;28;01mif\u001b[39;00m has_upper \u001b[38;5;129;01mand\u001b[39;00m has_lower \u001b[38;5;129;01mand\u001b[39;00m has_digit:\n\u001b[1;32m     12\u001b[0m     \u001b[38;5;28mprint\u001b[39m(\u001b[38;5;124m\"\u001b[39m\u001b[38;5;124mStrong password!\u001b[39m\u001b[38;5;124m\"\u001b[39m)\n",
      "Cell \u001b[0;32mIn[4], line 9\u001b[0m, in \u001b[0;36m<genexpr>\u001b[0;34m(.0)\u001b[0m\n\u001b[1;32m      7\u001b[0m has_upper \u001b[38;5;241m=\u001b[39m \u001b[38;5;28many\u001b[39m(char\u001b[38;5;241m.\u001b[39misupper() \u001b[38;5;28;01mfor\u001b[39;00m char \u001b[38;5;129;01min\u001b[39;00m password)\n\u001b[1;32m      8\u001b[0m has_lower \u001b[38;5;241m=\u001b[39m \u001b[38;5;28many\u001b[39m(char\u001b[38;5;241m.\u001b[39mislower() \u001b[38;5;28;01mfor\u001b[39;00m char \u001b[38;5;129;01min\u001b[39;00m password)\n\u001b[0;32m----> 9\u001b[0m has_digit \u001b[38;5;241m=\u001b[39m \u001b[38;5;28many\u001b[39m(\u001b[43mchar\u001b[49m\u001b[38;5;241;43m.\u001b[39;49m\u001b[43misDigit\u001b[49m() \u001b[38;5;28;01mfor\u001b[39;00m char \u001b[38;5;129;01min\u001b[39;00m password)\n\u001b[1;32m     11\u001b[0m \u001b[38;5;28;01mif\u001b[39;00m has_upper \u001b[38;5;129;01mand\u001b[39;00m has_lower \u001b[38;5;129;01mand\u001b[39;00m has_digit:\n\u001b[1;32m     12\u001b[0m     \u001b[38;5;28mprint\u001b[39m(\u001b[38;5;124m\"\u001b[39m\u001b[38;5;124mStrong password!\u001b[39m\u001b[38;5;124m\"\u001b[39m)\n",
      "\u001b[0;31mAttributeError\u001b[0m: 'str' object has no attribute 'isDigit'"
     ]
    }
   ],
   "source": [
    "# 3 \n",
    "def check_password_strength(password):\n",
    "    if len(password) < 8:\n",
    "        print(\"Weal password: too short\") \n",
    "        return False\n",
    "    \n",
    "    has_upper = any(char.isupper() for char in password)\n",
    "    has_lower = any(char.islower() for char in password)\n",
    "    has_digit = any(char.isDigit() for char in password)\n",
    "\n",
    "    if has_upper and has_lower and has_digit:\n",
    "        print(\"Strong password!\")\n",
    "        return True\n",
    "    else:\n",
    "        print(\"Moderate password: missing character types\")\n",
    "        return False \n",
    "    \n",
    "passwords = input(\"Enter a list of passwords separarted by spaces:\").split()\n",
    "\n",
    "for password in passwords:\n",
    "    if check_password_strength(password):\n",
    "        break"
   ]
  },
  {
   "cell_type": "code",
   "execution_count": 1,
   "metadata": {},
   "outputs": [
    {
     "name": "stdout",
     "output_type": "stream",
     "text": [
      "Weak password: too short\n"
     ]
    }
   ],
   "source": [
    "def check_password_strength(password):\n",
    "    # Check if password length is less than 8\n",
    "    if len(password) < 8:\n",
    "        print(\"Weak password: too short\")\n",
    "        return False\n",
    "    \n",
    "    # Check for the presence of at least one uppercase, lowercase, and digit\n",
    "    has_upper = any(char.isupper() for char in password)\n",
    "    has_lower = any(char.islower() for char in password)\n",
    "    has_digit = any(char.isdigit() for char in password)\n",
    "    \n",
    "    if has_upper and has_lower and has_digit:\n",
    "        print(\"Strong password!\")\n",
    "        return True\n",
    "    else:\n",
    "        print(\"Moderate password: missing character types\")\n",
    "        return False\n",
    "\n",
    "# Prompt user to enter passwords\n",
    "passwords = input(\"Enter a list of passwords separated by spaces: \").split()\n",
    "\n",
    "# Check each password\n",
    "for password in passwords:\n",
    "    if check_password_strength(password):\n",
    "        break\n"
   ]
  }
 ],
 "metadata": {
  "kernelspec": {
   "display_name": "Python 3",
   "language": "python",
   "name": "python3"
  },
  "language_info": {
   "codemirror_mode": {
    "name": "ipython",
    "version": 3
   },
   "file_extension": ".py",
   "mimetype": "text/x-python",
   "name": "python",
   "nbconvert_exporter": "python",
   "pygments_lexer": "ipython3",
   "version": "3.10.0"
  }
 },
 "nbformat": 4,
 "nbformat_minor": 2
}
