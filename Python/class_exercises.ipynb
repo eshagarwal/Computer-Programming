{
 "cells": [
  {
   "cell_type": "markdown",
   "metadata": {},
   "source": [
    "# Class exercises (Python)\n",
    "\n",
    "1. Create a class called Person that has a name and age attribute. Add a method called greet that prints\n",
    "\"Hello, my name is {name} and I am {age} years old.\"\n",
    "2. Create a class called Rectangle that has width and height attributes. Add methods to calculate the area and perimeter of the rectangle.\n",
    "3. Create a class called BankAccount that has a balance attribute and methods to deposit and withdraw money from the account.\n",
    "4. Create a class called Car with make, model, and year attributes. Add a method called description that prints \" {year} {make} {model}\""
   ]
  },
  {
   "cell_type": "code",
   "execution_count": 7,
   "metadata": {},
   "outputs": [
    {
     "name": "stdout",
     "output_type": "stream",
     "text": [
      "Hello, my name is Esha and I am 22 years old.\n"
     ]
    }
   ],
   "source": [
    "# 1. Create a class called Person that has a name and age attribute. Add a method called greet that prints\n",
    "# \"Hello, my name is {name} and I am {age} years old.\"\n",
    "\n",
    "class Person:\n",
    "    \"\"\"\n",
    "    Creates instance of Person class with given name and age\n",
    "\n",
    "    Parameters:\n",
    "        - name (str)\n",
    "        - age (int) in years\n",
    "    \"\"\"\n",
    "    def __init__(self, name, age):\n",
    "        self.name = name\n",
    "        self.age = age\n",
    "\n",
    "    '''\n",
    "    Method to allow person to greet themselves\n",
    "    '''\n",
    "    def greet(self):\n",
    "        print(f\"Hello, my name is {self.name} and I am {self.age} years old.\")\n",
    "\n",
    "information = Person(name = \"Esha\", age = 22)\n",
    "information.greet()"
   ]
  },
  {
   "cell_type": "code",
   "execution_count": 9,
   "metadata": {},
   "outputs": [
    {
     "name": "stdout",
     "output_type": "stream",
     "text": [
      "Area of the rectangle with width: 5 cm and height: 10 cm = 50 cm^2\n",
      "Perimeter of the rectangle with width: 10 cm and height: 10 cm = 40 cm\n"
     ]
    }
   ],
   "source": [
    "# 2. Create a class called Rectangle that has width and height attributes. Add methods to calculate the area and perimeter of the rectangle.\n",
    "\n",
    "class Rectangle:\n",
    "    def __init__(self, width, height):\n",
    "        self.width = width\n",
    "        self.height = height\n",
    "\n",
    "    def area(self):\n",
    "        return self.width * self.height\n",
    "    \n",
    "    def perimeter(self):\n",
    "        return 2 * (self.width + self.height)\n",
    "    \n",
    "rectangle_1  = Rectangle(width = 5, height = 10)\n",
    "print(f\"Area of the rectangle with width: {rectangle_1.width} cm and height: {rectangle_1.height} cm = {rectangle_1.area()} cm^2\")\n",
    "\n",
    "rectangle_2 = Rectangle(10, 10)\n",
    "print(f\"Perimeter of the rectangle with width: {rectangle_2.width} cm and height: {rectangle_2.height} cm = {rectangle_2.perimeter()} cm\")"
   ]
  },
  {
   "cell_type": "code",
   "execution_count": 13,
   "metadata": {},
   "outputs": [
    {
     "name": "stdout",
     "output_type": "stream",
     "text": [
      "Area of Rectangle (w = 5, h = 10) = 50\n",
      "Perimeter of Rectangle (w = 5, h = 10) = 30\n"
     ]
    }
   ],
   "source": [
    "# 2. Create a class called Rectangle that has width and height attributes. Add methods to calculate the area and perimeter of the rectangle.\n",
    "\n",
    "class Rectangle:\n",
    "    def __init__(self, width, height):\n",
    "        self.width = width\n",
    "        self.height = height\n",
    "\n",
    "    def area(self):\n",
    "        return self.width * self.height\n",
    "    \n",
    "    def perimeter(self):\n",
    "        return 2 * (self.width + self.height)\n",
    "    \n",
    "    def __str__(self) -> str:\n",
    "        return f\"Rectangle (w = {self.width}, h = {self.height})\"\n",
    "    \n",
    "rectangle  = Rectangle(width = 5, height = 10)\n",
    "print(f\"Area of {rectangle} = {rectangle.area()}\")\n",
    "print(f\"Perimeter of {rectangle} = {rectangle.perimeter()}\")"
   ]
  },
  {
   "cell_type": "code",
   "execution_count": 16,
   "metadata": {},
   "outputs": [
    {
     "name": "stdout",
     "output_type": "stream",
     "text": [
      "Account has balance: 1000 euros\n",
      "You deposited 500 euros\n",
      "Account has balance: 1500 euros\n",
      "You withdrew 200 euros\n",
      "Account has balance: 1300 euros\n"
     ]
    }
   ],
   "source": [
    "# 3. Create a class called BankAccount that has a balance attribute and methods to deposit and withdraw money from the account.\n",
    "\n",
    "class BankAccount:\n",
    "    def __init__(self, balance):\n",
    "        self.balance = balance\n",
    "\n",
    "    def deposit(self, amount):\n",
    "            self.balance += amount\n",
    "\n",
    "    def withdraw(self, amount):\n",
    "            self.balance -= amount\n",
    "\n",
    "    def get_balance(self):\n",
    "            return self.balance\n",
    "    \n",
    "account = BankAccount(balance = 1000)\n",
    "print(f\"Account has balance: {account.get_balance()} euros\")\n",
    "\n",
    "money_to_deposit = 500\n",
    "account.deposit(money_to_deposit)\n",
    "print(f\"You deposited {money_to_deposit} euros\")\n",
    "print(f\"Account has balance: {account.get_balance()} euros\")\n",
    "\n",
    "money_to_withdraw = 200\n",
    "account.withdraw(money_to_withdraw)\n",
    "print(f\"You withdrew {money_to_withdraw} euros\")\n",
    "print(f\"Account has balance: {account.get_balance()} euros\")"
   ]
  },
  {
   "cell_type": "code",
   "execution_count": 17,
   "metadata": {},
   "outputs": [
    {
     "name": "stdout",
     "output_type": "stream",
     "text": [
      "2022 Toyota Camry\n"
     ]
    }
   ],
   "source": [
    "# 4. Create a class called Car with make, model, and year attributes. Add a method called description that prints \" {year} {make} {model}\"\n",
    "\n",
    "class Car:\n",
    "    def __init__(self, make, model, year):\n",
    "        self.make = make\n",
    "        self.model = model\n",
    "        self.year = year\n",
    "\n",
    "    def description(self):\n",
    "        print(f\"{self.year} {self.make} {self.model}\")\n",
    "\n",
    "car_1 = Car(\"Toyota\", \"Camry\", 2022)\n",
    "car_1.description()"
   ]
  }
 ],
 "metadata": {
  "kernelspec": {
   "display_name": ".venv",
   "language": "python",
   "name": "python3"
  },
  "language_info": {
   "codemirror_mode": {
    "name": "ipython",
    "version": 3
   },
   "file_extension": ".py",
   "mimetype": "text/x-python",
   "name": "python",
   "nbconvert_exporter": "python",
   "pygments_lexer": "ipython3",
   "version": "3.9.6"
  }
 },
 "nbformat": 4,
 "nbformat_minor": 2
}
