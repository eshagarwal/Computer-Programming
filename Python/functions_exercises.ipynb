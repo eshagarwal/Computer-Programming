{
 "cells": [
  {
   "cell_type": "markdown",
   "metadata": {},
   "source": [
    "# Functions"
   ]
  },
  {
   "cell_type": "markdown",
   "metadata": {},
   "source": [
    "# Exercises"
   ]
  },
  {
   "cell_type": "markdown",
   "metadata": {},
   "source": [
    "1. Write a function called square that takes a number as an argument and returns the square of that number.\n",
    "2. Write a function called max_num that takes two numbers as arguments and returns the larger of the two numbers.\n",
    "3. Write a function called calculate_tax that takes a salary as an argument and returns the amount of tax that should be paid based on the following tax brackets:\n",
    "Income up to €20,000: 0% tax\n",
    "Income from €20,001 to €50,000: 10% tax\n",
    "Income from €50,001 to €100,000: 20% tax\n",
    "Income above €100,000: 30% tax\n",
    "4. Write a function called reverse_string that takes a string as an argument and returns the string in reverse order.\n",
    "5. Write a function called find_average that takes a list of numbers as an argument and returns the average of those numbers.\n",
    "6. Currency exchange calculator.\n",
    "Read through https://github.com/fawazahmed0/currency-api#readme\n",
    "Connect to this API using Python requests package to convert currency exchange from Dollars to Euros"
   ]
  },
  {
   "cell_type": "code",
   "execution_count": 3,
   "metadata": {},
   "outputs": [
    {
     "data": {
      "text/plain": [
       "9"
      ]
     },
     "execution_count": 3,
     "metadata": {},
     "output_type": "execute_result"
    }
   ],
   "source": [
    "# 1 \n",
    "\n",
    "def square(number):\n",
    "    return number**2 \n",
    "\n",
    "number = 3\n",
    "square(number)"
   ]
  },
  {
   "cell_type": "code",
   "execution_count": null,
   "metadata": {},
   "outputs": [
    {
     "data": {
      "text/plain": [
       "20"
      ]
     },
     "execution_count": 4,
     "metadata": {},
     "output_type": "execute_result"
    }
   ],
   "source": [
    "# 2\n",
    "\n",
    "def max_num(a, b):\n",
    "    return max(a, b)\n",
    "\n",
    "a = 10\n",
    "b = 20\n",
    "max_num(a, b)"
   ]
  },
  {
   "cell_type": "code",
   "execution_count": null,
   "metadata": {},
   "outputs": [
    {
     "name": "stdout",
     "output_type": "stream",
     "text": [
      "Your salary is 40000€\n",
      "You have to pay 10% tax\n"
     ]
    }
   ],
   "source": [
    "\n",
    "# 3\n",
    "\n",
    "def calculate_tax(salary):\n",
    "    if salary <= 20000:\n",
    "        print(\"You have to pay 0% tax\")\n",
    "    elif salary in range(20001, 50000):\n",
    "        print(\"You have to pay 10% tax\")\n",
    "    elif salary in range(50001, 100000):\n",
    "        print(\"You have to pay 20% tax\")\n",
    "    else:\n",
    "        print(\"You have to pay 30% tax\")\n",
    "\n",
    "salary = int(input(\"Enter your salary\"))\n",
    "print(f\"Your salary is {salary}€\")\n",
    "calculate_tax(salary)"
   ]
  },
  {
   "cell_type": "code",
   "execution_count": null,
   "metadata": {},
   "outputs": [
    {
     "name": "stdout",
     "output_type": "stream",
     "text": [
      "The string your entered: hello\n",
      "The reversed string: olleh\n"
     ]
    }
   ],
   "source": [
    "# 4\n",
    "\n",
    "def reverse_string(name: str) -> str:   # Type hinting\n",
    "    print(f\"The string your entered: {name}\")\n",
    "    reverse_string = reversed(name)\n",
    "    # reverse_string = [c for c in reverse_string]\n",
    "    reverse_string = \"\".join(reverse_string)    # Convert iterator to string\n",
    "    \n",
    "    return print(f\"The reversed string: {reverse_string}\")\n",
    "\n",
    "string = str(input(\"Enter a string:\"))\n",
    "reverse_string(string)\n"
   ]
  },
  {
   "cell_type": "code",
   "execution_count": 2,
   "metadata": {},
   "outputs": [
    {
     "name": "stdout",
     "output_type": "stream",
     "text": [
      "Reversed string: ahse\n"
     ]
    }
   ],
   "source": [
    "# 4\n",
    "\n",
    "def reverse_string(string):\n",
    "    return string[::-1]\n",
    "\n",
    "string = input(\"Enter a string: \")\n",
    "reversed_string = reverse_string(string)\n",
    "print(\"Reversed string:\", reversed_string)"
   ]
  },
  {
   "cell_type": "code",
   "execution_count": null,
   "metadata": {},
   "outputs": [
    {
     "name": "stdout",
     "output_type": "stream",
     "text": [
      "The numbers are [1, 2, 3, 4]\n",
      "The average of the numbers: 2.5\n"
     ]
    }
   ],
   "source": [
    "# 5\n",
    "\n",
    "def average(numbers: list[int]) -> float:   # Type hinting\n",
    "    print(f\"The numbers are {numbers}\")\n",
    "    sum_numbers = sum(numbers)\n",
    "    average = sum_numbers/len(numbers)\n",
    "\n",
    "    return print(f\"The average of the numbers: {average}\")\n",
    "\n",
    "numbers = [1, 2, 3, 4]\n",
    "average(numbers)\n"
   ]
  },
  {
   "cell_type": "code",
   "execution_count": null,
   "metadata": {},
   "outputs": [
    {
     "name": "stdout",
     "output_type": "stream",
     "text": [
      "$100 = €91.96\n"
     ]
    }
   ],
   "source": [
    "# 6\n",
    "\n",
    "import requests\n",
    "\n",
    "def convert_usd_to_eur(amount):\n",
    "    # Get the latest USD to EUR exchange rate\n",
    "    url = \"https://cdn.jsdelivr.net/npm/@fawazahmed0/currency-api@latest/v1/currencies/usd.json\"\n",
    "    response = requests.get(url)\n",
    "    \n",
    "    if response.status_code == 200:\n",
    "        data = response.json()\n",
    "        exchange_rate = data['usd']['eur']\n",
    "        converted_amount = amount * exchange_rate\n",
    "        return converted_amount\n",
    "    else:\n",
    "        return \"Failed to fetch exchange rate\"\n",
    "\n",
    "dollars = 100\n",
    "euros = convert_usd_to_eur(dollars)\n",
    "print(f\"${dollars} = €{euros:.2f}\")\n"
   ]
  }
 ],
 "metadata": {
  "kernelspec": {
   "display_name": ".venv",
   "language": "python",
   "name": "python3"
  },
  "language_info": {
   "codemirror_mode": {
    "name": "ipython",
    "version": 3
   },
   "file_extension": ".py",
   "mimetype": "text/x-python",
   "name": "python",
   "nbconvert_exporter": "python",
   "pygments_lexer": "ipython3",
   "version": "3.9.6"
  }
 },
 "nbformat": 4,
 "nbformat_minor": 2
}
