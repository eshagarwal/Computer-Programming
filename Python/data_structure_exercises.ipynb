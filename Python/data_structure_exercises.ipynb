{
 "cells": [
  {
   "cell_type": "markdown",
   "metadata": {},
   "source": [
    "### Exercises:\n",
    "1. WAP that creates a list of integers and prints out the largest and smallest numbers in the list.\n",
    "2. WAP that takes a list of dictionaries as input, where each dictionary contains a \"name key and \"age\" key. The program return a ner list of names, sorted by age in ascending order."
   ]
  },
  {
   "cell_type": "code",
   "execution_count": 2,
   "metadata": {},
   "outputs": [
    {
     "name": "stdout",
     "output_type": "stream",
     "text": [
      "The largest number is: 50\n",
      "The smallest number is: 10\n"
     ]
    }
   ],
   "source": [
    "def print_numbers(numbers: list[int]):\n",
    "    largest_num = max(numbers)\n",
    "    smallest_num = min(numbers)\n",
    "    print(f\"The largest number is: {largest_num}\")\n",
    "    print(f\"The smallest number is: {smallest_num}\")\n",
    "\n",
    "numbers = [10, 20, 30, 40, 50]\n",
    "print_numbers(numbers = numbers)"
   ]
  },
  {
   "cell_type": "code",
   "execution_count": 3,
   "metadata": {},
   "outputs": [
    {
     "data": {
      "text/plain": [
       "8"
      ]
     },
     "execution_count": 3,
     "metadata": {},
     "output_type": "execute_result"
    }
   ],
   "source": [
    "# Lambda function\n",
    "add_two_numbers = lambda x, y : x + y\n",
    "add_two_numbers(3, 5)"
   ]
  },
  {
   "cell_type": "code",
   "execution_count": 4,
   "metadata": {},
   "outputs": [
    {
     "name": "stdout",
     "output_type": "stream",
     "text": [
      "['Charlie', 'Bob', 'Alice', 'David']\n"
     ]
    }
   ],
   "source": [
    "# Step 1: Create a list of dictionaries and call it collection_a\n",
    "collection_a = [\n",
    "    {\"name\": \"Alice\", \"age\": 30},\n",
    "    {\"name\": \"Bob\", \"age\": 25},\n",
    "    {\"name\": \"Charlie\", \"age\": 20},\n",
    "    {\"name\": \"David\", \"age\": 35}\n",
    "]\n",
    "\n",
    "# Step 2: Create the lambda function to extract the \"age\" from one element in collection_a\n",
    "extract_age = lambda person: person[\"age\"]\n",
    "\n",
    "# Step 3: Use sorted() function and your lambda function to sort collection_a by \"age\"\n",
    "sorted_collection = sorted(collection_a, key=extract_age)\n",
    "\n",
    "# Step 4: Use a list comprehension to extract the names from your sorted collection\n",
    "sorted_names = [person[\"name\"] for person in sorted_collection]\n",
    "\n",
    "print(sorted_names)\n"
   ]
  }
 ],
 "metadata": {
  "kernelspec": {
   "display_name": "Python 3",
   "language": "python",
   "name": "python3"
  },
  "language_info": {
   "codemirror_mode": {
    "name": "ipython",
    "version": 3
   },
   "file_extension": ".py",
   "mimetype": "text/x-python",
   "name": "python",
   "nbconvert_exporter": "python",
   "pygments_lexer": "ipython3",
   "version": "3.10.0"
  }
 },
 "nbformat": 4,
 "nbformat_minor": 2
}
