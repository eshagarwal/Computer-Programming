{
 "cells": [
  {
   "cell_type": "markdown",
   "metadata": {},
   "source": [
    "# While loop"
   ]
  },
  {
   "cell_type": "code",
   "execution_count": 12,
   "metadata": {},
   "outputs": [
    {
     "name": "stdout",
     "output_type": "stream",
     "text": [
      "the count is  1\n",
      "the count is  2\n",
      "the count is  3\n",
      "the count is  4\n",
      "the count is  5\n"
     ]
    }
   ],
   "source": [
    "x = 1 \n",
    "while x < 6:\n",
    "    print(\"the count is \", x)\n",
    "    x += 1"
   ]
  },
  {
   "cell_type": "markdown",
   "metadata": {},
   "source": [
    "# Exercises"
   ]
  },
  {
   "cell_type": "markdown",
   "metadata": {},
   "source": [
    "1. Create a while loop that adds all the numbers up to 100.\n",
    "2. Using while loop, iterate through a list of names. If the name is \"Bond\", print \"We have been expecting you\""
   ]
  },
  {
   "cell_type": "code",
   "execution_count": 15,
   "metadata": {},
   "outputs": [
    {
     "name": "stdout",
     "output_type": "stream",
     "text": [
      "5050\n"
     ]
    }
   ],
   "source": [
    "# 1 \n",
    "counter = 0\n",
    "total = 0\n",
    "while counter <= 100:\n",
    "    total += counter\n",
    "    counter += 1\n",
    "print(total)"
   ]
  },
  {
   "cell_type": "code",
   "execution_count": 14,
   "metadata": {},
   "outputs": [
    {
     "name": "stdout",
     "output_type": "stream",
     "text": [
      "We have been expecting you Mr. Bond\n"
     ]
    }
   ],
   "source": [
    "# 2 \n",
    "list_of_names = ['Sarah', 'John', 'Bond', 'Jane', 'Joe', 'Tom', 'Ross']\n",
    "i = 0\n",
    "while i < len(list_of_names):\n",
    "    name = list_of_names[i]\n",
    "    if name == 'Bond':\n",
    "        print(f\"We have been expecting you Mr. {name}\")\n",
    "    i += 1\n"
   ]
  }
 ],
 "metadata": {
  "kernelspec": {
   "display_name": "Python 3",
   "language": "python",
   "name": "python3"
  },
  "language_info": {
   "codemirror_mode": {
    "name": "ipython",
    "version": 3
   },
   "file_extension": ".py",
   "mimetype": "text/x-python",
   "name": "python",
   "nbconvert_exporter": "python",
   "pygments_lexer": "ipython3",
   "version": "3.10.0"
  }
 },
 "nbformat": 4,
 "nbformat_minor": 2
}
