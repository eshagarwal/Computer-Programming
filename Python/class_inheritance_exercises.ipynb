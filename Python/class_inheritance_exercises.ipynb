{
 "cells": [
  {
   "cell_type": "markdown",
   "metadata": {},
   "source": [
    "# Class inheritance exercises\n",
    "\n",
    "1. Create a class called Animal with a method speak that prints \"I am an animal.\"\n",
    "Create a subclass called Dog that overrides the speak method to print \"I am a dog.\"\n",
    "2. Create a parent class called Shape with a method area that returns the area of the shape as 0. Then create two child classes Rectangle and Triangle that inherit from Shape. Override the area method in each child class to calculate and return the area of a rectangle and a triangle, respectively.\n",
    "3. Create a parent class called Vehicle with attributes make and model.\n",
    "Implement a method get info that returns a string containing the make and model of the vehicle. Then create two child classes Car and Motorcycle that inherit from Vehicle. Add an additional attribute year to each child class.\n",
    "Override the get _ info method in each child class to include the year of the vehicle in the returned string."
   ]
  },
  {
   "cell_type": "code",
   "execution_count": 9,
   "metadata": {},
   "outputs": [
    {
     "name": "stdout",
     "output_type": "stream",
     "text": [
      "I am a dog.\n"
     ]
    }
   ],
   "source": [
    "# 1. Create a class called Animal with a method speak that prints \"I am an animal.\" Create a subclass called Dog that overrides the speak method to print \"I am a dog.\"\n",
    "\n",
    "class Animal:\n",
    "    def speak(self):\n",
    "        print(\"I am an animal.\")\n",
    "\n",
    "# Dog inherits from Animal and overrides the speak method \n",
    "class Dog(Animal):\n",
    "    def speak(self):\n",
    "        print(\"I am a dog.\")\n",
    "\n",
    "animal_1 = Dog()\n",
    "animal_1.speak()"
   ]
  },
  {
   "cell_type": "code",
   "execution_count": 10,
   "metadata": {},
   "outputs": [
    {
     "name": "stdout",
     "output_type": "stream",
     "text": [
      "Rectangle area: 20\n",
      "Triangle area: 9.0\n"
     ]
    }
   ],
   "source": [
    "# 2. Create a parent class called Shape with a method area that returns the area of the shape as 0. Then create two child classes Rectangle and Triangle that inherit from Shape. Override the area method in each child class to calculate and return the area of a rectangle and a triangle, respectively.\n",
    "\n",
    "class Shape:\n",
    "    def area(self):\n",
    "        return 0\n",
    "\n",
    "class Rectangle(Shape):\n",
    "    def __init__(self, width, height):\n",
    "        self.width = width\n",
    "        self.height = height\n",
    "    \n",
    "    def area(self):\n",
    "        return self.width * self.height\n",
    "\n",
    "class Triangle(Shape):\n",
    "    def __init__(self, base, height):\n",
    "        self.base = base\n",
    "        self.height = height\n",
    "    \n",
    "    def area(self):\n",
    "        return 0.5 * self.base * self.height\n",
    "\n",
    "# instances of Rectangle and Triangle\n",
    "rectangle = Rectangle(5, 4)\n",
    "triangle = Triangle(6, 3)\n",
    "\n",
    "print(f\"Rectangle area: {rectangle.area()}\")  \n",
    "print(f\"Triangle area: {triangle.area()}\")   \n"
   ]
  },
  {
   "cell_type": "code",
   "execution_count": 17,
   "metadata": {},
   "outputs": [
    {
     "name": "stdout",
     "output_type": "stream",
     "text": [
      "Tesla Model Y\n",
      "Toyota Camry (2022)\n",
      "Royal Enfield Hunter (2023)\n"
     ]
    }
   ],
   "source": [
    "# 3. Create a parent class called Vehicle with attributes make and model.\n",
    "# Implement a method get info that returns a string containing the make and model of the vehicle. Then create two child classes Car and Motorcycle that inherit from Vehicle. Add an additional attribute year to each child class.\n",
    "# Override the get _ info method in each child class to include the year of the vehicle in the returned string.\n",
    "\n",
    "class Vehicle:\n",
    "    def __init__(self, make, model):\n",
    "        self.make = make\n",
    "        self.model = model\n",
    "\n",
    "    def get_info(self):\n",
    "        return f\"{self.make} {self.model}\"\n",
    "\n",
    "class Car(Vehicle):\n",
    "    def __init__(self, make, model, year):\n",
    "        super().__init__(make, model)\n",
    "        self.year = year\n",
    "\n",
    "    def get_info(self):\n",
    "        return f\"{self.make} {self.model} ({self.year})\"\n",
    "        \n",
    "class Motorcycle(Vehicle):\n",
    "    def __init__(self, make, model, year):\n",
    "        super().__init__(make, model)\n",
    "        self.year = year\n",
    "\n",
    "    def get_info(self):\n",
    "            return f\"{self.make} {self.model} ({self.year})\"\n",
    "    \n",
    "vehicle_1 = Vehicle(\"Tesla\", \"Model Y\")\n",
    "car_1 = Car(\"Toyota\", \"Camry\", 2022)\n",
    "motorcycle_1 = Motorcycle(\"Royal Enfield\", \"Hunter\", 2023)\n",
    "\n",
    "print(vehicle_1.get_info())\n",
    "print(car_1.get_info())\n",
    "print(motorcycle_1.get_info())\n"
   ]
  }
 ],
 "metadata": {
  "kernelspec": {
   "display_name": ".venv",
   "language": "python",
   "name": "python3"
  },
  "language_info": {
   "codemirror_mode": {
    "name": "ipython",
    "version": 3
   },
   "file_extension": ".py",
   "mimetype": "text/x-python",
   "name": "python",
   "nbconvert_exporter": "python",
   "pygments_lexer": "ipython3",
   "version": "3.9.6"
  }
 },
 "nbformat": 4,
 "nbformat_minor": 2
}
