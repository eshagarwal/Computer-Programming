{
 "cells": [
  {
   "cell_type": "markdown",
   "metadata": {},
   "source": [
    "# Regular Expression exercises"
   ]
  },
  {
   "cell_type": "code",
   "execution_count": 1,
   "metadata": {},
   "outputs": [],
   "source": [
    "import re"
   ]
  },
  {
   "cell_type": "code",
   "execution_count": 4,
   "metadata": {},
   "outputs": [
    {
     "name": "stdout",
     "output_type": "stream",
     "text": [
      "testemial.com is not a valid email address.\n"
     ]
    }
   ],
   "source": [
    "'''\n",
    "1. Validating Email Addresses - \n",
    "Create a function that takes an email address as input and uses regular expressions to validate whether it is a valid email address format or not.\n",
    "'''\n",
    "\n",
    "def validate_email(email):\n",
    "    email_pattern = r'^[a-zA-Z0-9._%+-]+@[a-zA-Z0-9.-]+\\.[a-zA-Z]{2,}$'\n",
    "    \n",
    "    # Match the email against the pattern\n",
    "    if re.match(email_pattern, email):\n",
    "        return True\n",
    "    else:\n",
    "        return False\n",
    "\n",
    "email = input(\"Enter an email address:\")\n",
    "if validate_email(email):\n",
    "    print(f\"{email} is a valid email address.\")\n",
    "else:\n",
    "    print(f\"{email} is not a valid email address.\")\n"
   ]
  },
  {
   "cell_type": "code",
   "execution_count": null,
   "metadata": {},
   "outputs": [
    {
     "name": "stdout",
     "output_type": "stream",
     "text": [
      "Extracted phone numbers: ['123-456-7890', '987-654-3210', '555-123-4567']\n"
     ]
    }
   ],
   "source": [
    "'''\n",
    "2. Extracting Phone Numbers - \n",
    "Create a function that takes a string as input and uses regular expressions to extract all the phone numbers (in a specific format, such as XXX-XXX-XXXX) from the string.\n",
    "'''\n",
    "\n",
    "def extract_phone_numbers(text):\n",
    "    phone_pattern = r'\\b\\d{3}-\\d{3}-\\d{4}\\b'\n",
    "    \n",
    "    # Find all matches in the given text\n",
    "    phone_numbers = re.findall(phone_pattern, text)\n",
    "    \n",
    "    return phone_numbers\n",
    "\n",
    "text = \"Here are some phone numbers: 123-456-7890, 987-654-3210. Call me at 555-123-4567!\"\n",
    "phone_numbers = extract_phone_numbers(text)\n",
    "\n",
    "print(\"Extracted phone numbers:\", phone_numbers)\n"
   ]
  },
  {
   "cell_type": "code",
   "execution_count": 6,
   "metadata": {},
   "outputs": [
    {
     "name": "stdout",
     "output_type": "stream",
     "text": [
      "https://www.example.com/path/to/page?name=value&other=abc is a valid URL.\n"
     ]
    }
   ],
   "source": [
    "'''\n",
    "3. Validating URLs - \n",
    "Create a function that takes a URL as input and uses regular expressions to validate whether it is a valid URL format or not.\n",
    "'''\n",
    "\n",
    "def validate_url(url):\n",
    "    url_pattern = r'^(https?|ftp)://[a-zA-Z0-9.-]+\\.[a-zA-Z]{2,}(/[\\w\\-./?%&=]*)?$'\n",
    "    \n",
    "    # Match the URL against the pattern\n",
    "    if re.match(url_pattern, url):\n",
    "        return True\n",
    "    else:\n",
    "        return False\n",
    "\n",
    "url = \"https://www.example.com/path/to/page?name=value&other=abc\"\n",
    "if validate_url(url):\n",
    "    print(f\"{url} is a valid URL.\")\n",
    "else:\n",
    "    print(f\"{url} is not a valid URL.\")\n"
   ]
  },
  {
   "cell_type": "code",
   "execution_count": 7,
   "metadata": {},
   "outputs": [
    {
     "name": "stdout",
     "output_type": "stream",
     "text": [
      "Duplicate words: ['this', 'is', 'a', 'test']\n"
     ]
    }
   ],
   "source": [
    "'''\n",
    "4. Finding Duplicate Words - \n",
    "Create a function that takes a string as input and uses regular expressions to find all the duplicate words in the string.\n",
    "'''\n",
    "\n",
    "from collections import Counter\n",
    "\n",
    "def find_duplicate_words(text):\n",
    "    # Regular expression pattern to match words (case-insensitive)\n",
    "    word_pattern = r'\\b(\\w+)\\b'\n",
    "    \n",
    "    # Find all words in the text\n",
    "    words = re.findall(word_pattern, text.lower())  # Using lower() for case-insensitive matching\n",
    "    \n",
    "    # Count the occurrences of each word\n",
    "    word_counts = Counter(words)\n",
    "    \n",
    "    # Find all words that appear more than once\n",
    "    duplicates = [word for word, count in word_counts.items() if count > 1]\n",
    "    \n",
    "    return duplicates\n",
    "\n",
    "text = \"This is a test. This test is only a test.\"\n",
    "duplicates = find_duplicate_words(text)\n",
    "\n",
    "print(\"Duplicate words:\", duplicates)\n"
   ]
  }
 ],
 "metadata": {
  "kernelspec": {
   "display_name": "Python 3",
   "language": "python",
   "name": "python3"
  },
  "language_info": {
   "codemirror_mode": {
    "name": "ipython",
    "version": 3
   },
   "file_extension": ".py",
   "mimetype": "text/x-python",
   "name": "python",
   "nbconvert_exporter": "python",
   "pygments_lexer": "ipython3",
   "version": "3.9.6"
  }
 },
 "nbformat": 4,
 "nbformat_minor": 2
}
