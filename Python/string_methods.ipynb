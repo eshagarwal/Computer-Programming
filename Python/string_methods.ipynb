{
 "cells": [
  {
   "cell_type": "markdown",
   "metadata": {},
   "source": [
    "# String Method Exercises"
   ]
  },
  {
   "cell_type": "code",
   "execution_count": null,
   "metadata": {},
   "outputs": [
    {
     "name": "stdout",
     "output_type": "stream",
     "text": [
      "The character 'a' appears 3 times in the string.\n"
     ]
    }
   ],
   "source": [
    "# 1. Counting Characters - Write a function that takes a string as input and uses the count) method to count the number of occurrences of a specific character in the string.\n",
    "\n",
    "def count_char_occurrence(input_string, char_to_count):\n",
    "    count = input_string.count(char_to_count)\n",
    "    return count\n",
    "\n",
    "input_string = input(\"Enter a string: \")\n",
    "char_to_count = input(\"Enter the character to count: \")\n",
    "\n",
    "result = count_char_occurrence(input_string, char_to_count)\n",
    "print(f\"The character '{char_to_count}' appears {result} times in the string.\")\n"
   ]
  },
  {
   "cell_type": "code",
   "execution_count": 14,
   "metadata": {},
   "outputs": [
    {
     "name": "stdout",
     "output_type": "stream",
     "text": [
      "The substring 'ld' is present in the string.\n"
     ]
    }
   ],
   "source": [
    "# 2. Checking Substring Presence - Write a function that takes a string as input and uses the in operator to check whether a specific substring is present in the string.\n",
    "def checking_substring(input_string, substring):\n",
    "    check_substring = substring in input_string \n",
    "    return check_substring\n",
    "\n",
    "input_string = input(\"Enter a string: \")\n",
    "substring = input(\"Enter the substring to check: \")\n",
    "\n",
    "result = checking_substring(input_string, substring)\n",
    "if result:\n",
    "    print(f\"The substring '{substring}' is present in the string.\")\n",
    "else:\n",
    "    print(f\"The substring '{substring}' is NOT present in the string.\")\n"
   ]
  },
  {
   "cell_type": "code",
   "execution_count": 11,
   "metadata": {},
   "outputs": [
    {
     "name": "stdout",
     "output_type": "stream",
     "text": [
      "Lowercase: helllo world\n",
      "Uppercase: HELLLO WORLD\n"
     ]
    }
   ],
   "source": [
    "# 3. Changing Case - Write a function that takes a string as input and uses the lower) and upper() methods to convert the string to lowercase and uppercase, respectively.\n",
    "\n",
    "def changing_case(input_string):\n",
    "    lower_case = input_string.lower()\n",
    "    upper_case = input_string.upper()\n",
    "    return lower_case, upper_case\n",
    "\n",
    "input_string = input(\"Enter a string: \")\n",
    "\n",
    "lower_case, upper_case = changing_case(input_string)\n",
    "\n",
    "print(f\"Lowercase: {lower_case}\")\n",
    "print(f\"Uppercase: {upper_case}\")\n"
   ]
  },
  {
   "cell_type": "code",
   "execution_count": 12,
   "metadata": {},
   "outputs": [
    {
     "name": "stdout",
     "output_type": "stream",
     "text": [
      "The splitted string: ['Hello', 'World', 'to', 'python']\n",
      "The joined string: Hello-World-to-python\n"
     ]
    }
   ],
   "source": [
    "# 4. Splitting and Joining Strings - Write a function that takes a string as input and uses the split() method to split the string into a list of words. Then, use the join() method to concatenate the words back into a single string with a specific delimiter.\n",
    "\n",
    "def splitting(input_string):\n",
    "    split_string = input_string.split()\n",
    "    return split_string\n",
    "\n",
    "def joining(words, delimiter):\n",
    "    join_string = delimiter.join(words)\n",
    "    return join_string\n",
    "\n",
    "input_string = input(\"Enter a string: \")\n",
    "\n",
    "splitting_result = splitting(input_string)\n",
    "print(f\"The splitted string: {splitting_result}\")\n",
    "\n",
    "delimiter = input(\"Enter a delimiter to join the words (e.g., space, comma, hyphen): \")\n",
    "\n",
    "joining_result = joining(splitting_result, delimiter)\n",
    "print(f\"The joined string: {joining_result}\")\n"
   ]
  },
  {
   "cell_type": "code",
   "execution_count": 10,
   "metadata": {},
   "outputs": [
    {
     "name": "stdout",
     "output_type": "stream",
     "text": [
      "The splitted string: ['this', 'is', 'a', 'good', 'book']\n"
     ]
    }
   ],
   "source": [
    "def splitting(input_string):\n",
    "    split_string = input_string.split()\n",
    "    return split_string\n",
    "\n",
    "def joining(input_string):\n",
    "    join_string = input_string.join()\n",
    "    return join_string\n",
    "\n",
    "input_string = input(\"Enter a string: \")\n",
    "splitting_result = splitting(input_string)\n",
    "print(f\"The splitted string: {splitting_result}\")"
   ]
  },
  {
   "cell_type": "code",
   "execution_count": 13,
   "metadata": {},
   "outputs": [
    {
     "name": "stdout",
     "output_type": "stream",
     "text": [
      "String after removing leading and trailing whitespaces: 'This is python programming'\n"
     ]
    }
   ],
   "source": [
    "# 5. Removing Whitespace - Write a function that takes a string as input and uses the strip) method to remove leading and trailing whitespace from the string.\n",
    "\n",
    "def remove_leading_trailing_whitespaces(input_string):\n",
    "    cleaned_string = input_string.strip()\n",
    "    return cleaned_string\n",
    "\n",
    "# Example usage:\n",
    "input_string = input(\"Enter a string with leading and/or trailing spaces: \")\n",
    "result = remove_leading_trailing_whitespaces(input_string)\n",
    "print(f\"String after removing leading and trailing whitespaces: '{result}'\")\n"
   ]
  }
 ],
 "metadata": {
  "kernelspec": {
   "display_name": "Python 3",
   "language": "python",
   "name": "python3"
  },
  "language_info": {
   "codemirror_mode": {
    "name": "ipython",
    "version": 3
   },
   "file_extension": ".py",
   "mimetype": "text/x-python",
   "name": "python",
   "nbconvert_exporter": "python",
   "pygments_lexer": "ipython3",
   "version": "3.9.6"
  }
 },
 "nbformat": 4,
 "nbformat_minor": 2
}
