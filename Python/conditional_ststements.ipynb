{
 "cells": [
  {
   "cell_type": "markdown",
   "metadata": {},
   "source": [
    "# Conditional Statements"
   ]
  },
  {
   "cell_type": "code",
   "execution_count": 8,
   "metadata": {},
   "outputs": [
    {
     "name": "stdout",
     "output_type": "stream",
     "text": [
      "Turn on the heater\n",
      "Turn on the cooler\n",
      "Do nothing\n"
     ]
    }
   ],
   "source": [
    "def thermostat_regulator(temperature: float, low_temperature = 20, high_temperature = 27):\n",
    "    if temperature < low_temperature:\n",
    "        state = 'Turn on the heater'\n",
    "    elif temperature > high_temperature:\n",
    "        state = 'Turn on the cooler'\n",
    "    elif temperature > low_temperature and temperature < high_temperature:\n",
    "        state = 'Do nothing'\n",
    "    print(state)\n",
    "    return state \n",
    "\n",
    "state = thermostat_regulator(10.5)\n",
    "state = thermostat_regulator(30)\n",
    "state = thermostat_regulator(25)"
   ]
  }
 ],
 "metadata": {
  "kernelspec": {
   "display_name": "Python 3",
   "language": "python",
   "name": "python3"
  },
  "language_info": {
   "codemirror_mode": {
    "name": "ipython",
    "version": 3
   },
   "file_extension": ".py",
   "mimetype": "text/x-python",
   "name": "python",
   "nbconvert_exporter": "python",
   "pygments_lexer": "ipython3",
   "version": "3.10.0"
  }
 },
 "nbformat": 4,
 "nbformat_minor": 2
}
